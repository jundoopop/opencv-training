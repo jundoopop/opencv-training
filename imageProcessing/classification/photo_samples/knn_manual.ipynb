{
 "cells": [
  {
   "cell_type": "markdown",
   "metadata": {},
   "source": [
    "### 1. Import libraries for image reading and processing"
   ]
  },
  {
   "cell_type": "code",
   "execution_count": 1,
   "metadata": {},
   "outputs": [],
   "source": [
    "import numpy as np\n",
    "import cv2 as cv\n",
    "import os.path\n",
    "import math"
   ]
  },
  {
   "cell_type": "markdown",
   "metadata": {},
   "source": [
    "### 2. Presets for training"
   ]
  },
  {
   "cell_type": "code",
   "execution_count": null,
   "metadata": {},
   "outputs": [],
   "source": [
    "# Set the path to the current directory\n",
    "current_dir = os.path.curdir\n",
    "\n",
    "# Set the path to the training sets\n",
    "training_sets_angular_leaf_spot = os.path.join(os.path.curdir, \"angular_leaf_spot\")\n",
    "training_sets_bean_rust = os.path.join(os.path.curdir, \"bean_rust\")\n",
    "training_sets_healthy = os.path.join(os.path.curdir, \"healthy\")\n",
    "\n",
    "# Set the path to the predicting sets\n",
    "predicting_sets = os.path.join(os.path.curdir, \"prediction\")\n",
    "\n",
    "# Set the list of labels\n",
    "label_angular_leaf_spot = \"angular_leaf_spot\"\n",
    "label_bean_rust = \"bean_rust\"\n",
    "label_healthy = \"healthy\""
   ]
  },
  {
   "cell_type": "markdown",
   "metadata": {},
   "source": [
    "2-1 Euclidean distance for distance voting"
   ]
  },
  {
   "cell_type": "code",
   "execution_count": null,
   "metadata": {},
   "outputs": [],
   "source": [
    "def pixel_euclidean_distance(img1, img2):\n",
    "    return np.sqrt(np.sum(np.square(img1 - img2)))"
   ]
  },
  {
   "cell_type": "markdown",
   "metadata": {},
   "source": [
    "2-2 Define a function to set the samples for training"
   ]
  },
  {
   "cell_type": "code",
   "execution_count": null,
   "metadata": {},
   "outputs": [],
   "source": [
    "def training_set_loader(folder, size=(30, 30)):\n",
    "    # Arrays to store images and labels\n",
    "    # they could be counted by same indices\n",
    "    images, labels = [], []\n",
    "\n",
    "    \n",
    "    label_names = os.listdir(folder)\n",
    "\n",
    "    for label in label_names:\n",
    "        path = os.path.join(folder, label)\n",
    "        for filename in os.listdir(path):\n",
    "            img = cv.imread(os.path.join(path, filename), cv.IMREAD_GRAYSCALE) \n",
    "            if img is not None:\n",
    "                img = cv.resize(img, size)\n",
    "                images.append(img.flatten())\n",
    "                labels.append(label)\n",
    "\n",
    "    return np.array(images), np.array(labels)"
   ]
  },
  {
   "cell_type": "markdown",
   "metadata": {},
   "source": [
    "2-3 KNN Classification"
   ]
  },
  {
   "cell_type": "code",
   "execution_count": null,
   "metadata": {},
   "outputs": [],
   "source": [
    "def kNearestNeighbour(test_image, train_images, train_labels, k):\n",
    "    distances = []\n",
    "\n",
    "    # Calculate the distance between the test image and every image in the training set\n",
    "    for img in train_images:\n",
    "        distances.append(pixel_euclidean_distance(test_image, img))\n",
    "\n",
    "    # Sort the distances and get the indices of k smallest distances\n",
    "    k_indices = np.argsort(distances)[:k]\n",
    "\n",
    "    # Retrieve the labels of the k nearest neighbors\n",
    "    k_nearest_labels = [train_labels[i] for i in k_indices]\n",
    "\n",
    "    return k_indices, k_nearest_labels"
   ]
  },
  {
   "cell_type": "markdown",
   "metadata": {},
   "source": [
    "### 3. Get images "
   ]
  },
  {
   "cell_type": "markdown",
   "metadata": {},
   "source": [
    "##### 3-1 Images - Angular Leaves Spotted"
   ]
  },
  {
   "cell_type": "code",
   "execution_count": null,
   "metadata": {},
   "outputs": [],
   "source": [
    "pixels_of_images, labels_of_images = [], []\n",
    "\n",
    "# Read the images from the training sets - angular leaf spot\n",
    "for filename in os.listdir(training_sets_angular_leaf_spot):\n",
    "    # Read the image\n",
    "    img = cv.imread(os.path.join(training_sets_angular_leaf_spot, filename))\n",
    "    # Append the image and the label to the images list\n",
    "    if img is not None:\n",
    "        pixels_of_images.append([img, label_angular_leaf_spot])\n",
    "        labels_of_images.append(label_angular_leaf_spot)\n",
    "    else:\n",
    "        print(f\"Error loading image: {filename}\")\n",
    "        continue"
   ]
  },
  {
   "cell_type": "markdown",
   "metadata": {},
   "source": [
    "#### 3-2 Images - Bean Rusted Leaves"
   ]
  },
  {
   "cell_type": "code",
   "execution_count": null,
   "metadata": {},
   "outputs": [],
   "source": [
    "pixels_of_images, labels_of_images = [], []\n",
    "\n",
    "# Read the images from the training sets - angular leaf spot\n",
    "for filename in os.listdir(training_sets_angular_leaf_spot):\n",
    "    # Read the image\n",
    "    img = cv.imread(os.path.join(training_sets_angular_leaf_spot, filename))\n",
    "    # Append the image and the label to the images list\n",
    "    if img is not None:\n",
    "        pixels_of_images.append([img, label_angular_leaf_spot])\n",
    "        labels_of_images.append(label_angular_leaf_spot)\n",
    "    else:\n",
    "        print(f\"Error loading image: {filename}\")\n",
    "        continue"
   ]
  },
  {
   "cell_type": "markdown",
   "metadata": {},
   "source": [
    "### 4. Normalise Images"
   ]
  },
  {
   "cell_type": "code",
   "execution_count": null,
   "metadata": {},
   "outputs": [],
   "source": []
  },
  {
   "cell_type": "markdown",
   "metadata": {},
   "source": [
    "### 5. Test a Model"
   ]
  },
  {
   "cell_type": "code",
   "execution_count": null,
   "metadata": {},
   "outputs": [],
   "source": [
    "# Assuming test_image is your test image, train_images is your list of training images,\n",
    "# and train_labels is your list of labels for the training images\n",
    "\n",
    "k = 3  # Number of neighbors you want to consider\n",
    "nearest_indices, nearest_labels = kNearestNeighbour(test_image, train_images, train_labels, k)\n",
    "\n",
    "# Print the nearest images and their labels\n",
    "print(\"K nearest images are at indices:\", nearest_indices)\n",
    "print(\"Labels of K nearest images:\", nearest_labels)\n"
   ]
  },
  {
   "cell_type": "code",
   "execution_count": null,
   "metadata": {},
   "outputs": [],
   "source": []
  }
 ],
 "metadata": {
  "kernelspec": {
   "display_name": "base",
   "language": "python",
   "name": "python3"
  },
  "language_info": {
   "codemirror_mode": {
    "name": "ipython",
    "version": 3
   },
   "file_extension": ".py",
   "mimetype": "text/x-python",
   "name": "python",
   "nbconvert_exporter": "python",
   "pygments_lexer": "ipython3",
   "version": "3.11.5"
  }
 },
 "nbformat": 4,
 "nbformat_minor": 2
}
