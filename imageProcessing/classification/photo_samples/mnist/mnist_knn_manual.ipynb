{
 "cells": [
  {
   "cell_type": "code",
   "execution_count": 26,
   "metadata": {},
   "outputs": [],
   "source": [
    "import numpy as np\n",
    "import torch\n",
    "import torchvision\n",
    "import matplotlib.pyplot as plt\n",
    "from time import time\n",
    "from torchvision import datasets, transforms, models\n",
    "from torch import nn, optim\n",
    "import os"
   ]
  },
  {
   "cell_type": "markdown",
   "metadata": {},
   "source": [
    "##### elements of both set are consists of tuples: \n",
    "image in index 0, label in index 1"
   ]
  },
  {
   "cell_type": "code",
   "execution_count": 3,
   "metadata": {},
   "outputs": [
    {
     "name": "stdout",
     "output_type": "stream",
     "text": [
      "Downloading http://yann.lecun.com/exdb/mnist/train-images-idx3-ubyte.gz\n",
      "Downloading http://yann.lecun.com/exdb/mnist/train-images-idx3-ubyte.gz to trainset\\MNIST\\raw\\train-images-idx3-ubyte.gz\n"
     ]
    },
    {
     "name": "stderr",
     "output_type": "stream",
     "text": [
      "100%|██████████| 9912422/9912422 [00:01<00:00, 5712839.76it/s]\n"
     ]
    },
    {
     "name": "stdout",
     "output_type": "stream",
     "text": [
      "Extracting trainset\\MNIST\\raw\\train-images-idx3-ubyte.gz to trainset\\MNIST\\raw\n",
      "\n",
      "Downloading http://yann.lecun.com/exdb/mnist/train-labels-idx1-ubyte.gz\n",
      "Downloading http://yann.lecun.com/exdb/mnist/train-labels-idx1-ubyte.gz to trainset\\MNIST\\raw\\train-labels-idx1-ubyte.gz\n"
     ]
    },
    {
     "name": "stderr",
     "output_type": "stream",
     "text": [
      "100%|██████████| 28881/28881 [00:00<00:00, 28569739.11it/s]\n"
     ]
    },
    {
     "name": "stdout",
     "output_type": "stream",
     "text": [
      "Extracting trainset\\MNIST\\raw\\train-labels-idx1-ubyte.gz to trainset\\MNIST\\raw\n",
      "\n",
      "Downloading http://yann.lecun.com/exdb/mnist/t10k-images-idx3-ubyte.gz\n",
      "Downloading http://yann.lecun.com/exdb/mnist/t10k-images-idx3-ubyte.gz to trainset\\MNIST\\raw\\t10k-images-idx3-ubyte.gz\n"
     ]
    },
    {
     "name": "stderr",
     "output_type": "stream",
     "text": [
      "100%|██████████| 1648877/1648877 [00:00<00:00, 2396638.62it/s]\n"
     ]
    },
    {
     "name": "stdout",
     "output_type": "stream",
     "text": [
      "Extracting trainset\\MNIST\\raw\\t10k-images-idx3-ubyte.gz to trainset\\MNIST\\raw\n",
      "\n",
      "Downloading http://yann.lecun.com/exdb/mnist/t10k-labels-idx1-ubyte.gz\n",
      "Downloading http://yann.lecun.com/exdb/mnist/t10k-labels-idx1-ubyte.gz to trainset\\MNIST\\raw\\t10k-labels-idx1-ubyte.gz\n"
     ]
    },
    {
     "name": "stderr",
     "output_type": "stream",
     "text": [
      "100%|██████████| 4542/4542 [00:00<00:00, 4558633.35it/s]"
     ]
    },
    {
     "name": "stdout",
     "output_type": "stream",
     "text": [
      "Extracting trainset\\MNIST\\raw\\t10k-labels-idx1-ubyte.gz to trainset\\MNIST\\raw\n",
      "\n"
     ]
    },
    {
     "name": "stderr",
     "output_type": "stream",
     "text": [
      "\n"
     ]
    }
   ],
   "source": [
    "# train = True for training set\n",
    "trainset = datasets.MNIST(\"trainset\", download=True, train=True, transform=None)"
   ]
  },
  {
   "cell_type": "code",
   "execution_count": 32,
   "metadata": {},
   "outputs": [],
   "source": [
    "# train = False for test set\n",
    "testset = datasets.MNIST(\"testset\", download=True, train=False, transform=None)"
   ]
  },
  {
   "cell_type": "code",
   "execution_count": 54,
   "metadata": {},
   "outputs": [
    {
     "name": "stdout",
     "output_type": "stream",
     "text": [
      "Length of trainset: 60000, testset: 10000\n",
      "Shape of trainset: (28, 28)\n"
     ]
    }
   ],
   "source": [
    "# The number of mnist image files and size of each image\n",
    "print(\n",
    "    f\"Length of trainset: {len(trainset)}, testset: {len(testset)}\\n\"\n",
    "    f\"Shape of trainset: {np.array(trainset[0][0]).shape}\"\n",
    ")"
   ]
  },
  {
   "cell_type": "code",
   "execution_count": 60,
   "metadata": {},
   "outputs": [
    {
     "data": {
      "image/jpeg": "[encoded data removed]",
      "image/png": "[encoded data removed]",
      "text/plain": [
       "<PIL.Image.Image image mode=L size=28x28>"
      ]
     },
     "execution_count": 60,
     "metadata": {},
     "output_type": "execute_result"
    }
   ],
   "source": [
    "trainset[0][0]"
   ]
  },
  {
   "cell_type": "markdown",
   "metadata": {},
   "source": [
    "#### Define Functions for Training"
   ]
  },
  {
   "cell_type": "markdown",
   "metadata": {},
   "source": [
    "1. Euclidean distance"
   ]
  },
  {
   "cell_type": "code",
   "execution_count": 48,
   "metadata": {},
   "outputs": [],
   "source": [
    "def pixel_euclidean_distance(img1, img2):\n",
    "    return np.sqrt(np.sum(np.square(img1 - img2)))"
   ]
  },
  {
   "cell_type": "markdown",
   "metadata": {},
   "source": [
    "2. KNN Classification"
   ]
  },
  {
   "cell_type": "code",
   "execution_count": 62,
   "metadata": {},
   "outputs": [],
   "source": [
    "def kNearestNeighbour(test_image, train_images, k):\n",
    "    distances = []\n",
    "\n",
    "    # Calculate the distance between the test image and every image in the training set\n",
    "    for img in train_images:\n",
    "        distances.append(pixel_euclidean_distance(test_image, np.array(img[0]).flatten()))\n",
    "\n",
    "    # Sort the distances and get the indices of k smallest distances\n",
    "    k_indices = np.argsort(distances)[:k]\n",
    "\n",
    "    # Retrieve the labels of the k nearest neighbors\n",
    "    k_nearest_labels = [train_images[i][1] for i in k_indices]\n",
    "\n",
    "    return k_indices, k_nearest_labels"
   ]
  },
  {
   "cell_type": "markdown",
   "metadata": {},
   "source": [
    "#### Single Image Test"
   ]
  },
  {
   "cell_type": "code",
   "execution_count": 77,
   "metadata": {},
   "outputs": [],
   "source": [
    "def predict_single_image(test_image, test_image_label, train_images_set, k):\n",
    "    # Get the indices and labels of the k nearest neighbors\n",
    "    nearest_indices, nearest_labels = kNearestNeighbour(test_image, train_images_set, k)\n",
    "\n",
    "    # find frequency of each value\n",
    "    result_indices, counts = np.unique(nearest_labels, return_counts=True)\n",
    "    # display each value with highest frequency\n",
    "    result_nearest_labels = result_indices[counts == counts.max()]\n",
    "\n",
    "    # Check if the test label is among the labels of the nearest neighbors\n",
    "    return f\"Actual label: {test_image_label}, Result: {result_nearest_labels}, Candidates: {nearest_labels}\"\n",
    "    # Return the most common label"
   ]
  },
  {
   "cell_type": "code",
   "execution_count": 78,
   "metadata": {},
   "outputs": [
    {
     "data": {
      "text/plain": [
       "'Actual label: 7, Result: [7], Candidates: [7, 7, 7, 1, 7]'"
      ]
     },
     "execution_count": 78,
     "metadata": {},
     "output_type": "execute_result"
    }
   ],
   "source": [
    "single_test_image = np.array(testset[0][0]).flatten()\n",
    "single_test_image_label = testset[0][1]\n",
    "\n",
    "predict_single_image(single_test_image, single_test_image_label, trainset, 5)"
   ]
  },
  {
   "cell_type": "code",
   "execution_count": null,
   "metadata": {},
   "outputs": [],
   "source": [
    "def test_knn_accuracy(test_images, test_labels, train_images, train_labels, k):\n",
    "    correct_cases = 0\n",
    "    total_cases = len(test_images)\n",
    "\n",
    "    for i in range(total_cases):\n",
    "        single_test_image = test_images[i]\n",
    "        single_test_image_label = test_labels[i]\n",
    "\n",
    "        # Get the nearest neighbors\n",
    "        _, result_labels = kNearestNeighbour(\n",
    "            single_test_image, train_images, train_labels, k\n",
    "        )\n",
    "\n",
    "        # Find the most frequent label among the nearest neighbors\n",
    "        result_indices, counts = np.unique(result_labels, return_counts=True)\n",
    "        result_nearest_labels = result_indices[counts == counts.max()]\n",
    "\n",
    "        # Check if the test label is among the labels of the nearest neighbors\n",
    "        if single_test_image_label in result_nearest_labels:\n",
    "            correct_cases += 1\n",
    "\n",
    "    # Calculate accuracy\n",
    "    accuracy = correct_cases / total_cases\n",
    "    return accuracy"
   ]
  }
 ],
 "metadata": {
  "kernelspec": {
   "display_name": "base",
   "language": "python",
   "name": "python3"
  },
  "language_info": {
   "codemirror_mode": {
    "name": "ipython",
    "version": 3
   },
   "file_extension": ".py",
   "mimetype": "text/x-python",
   "name": "python",
   "nbconvert_exporter": "python",
   "pygments_lexer": "ipython3",
   "version": "3.11.5"
  }
 },
 "nbformat": 4,
 "nbformat_minor": 2
}
