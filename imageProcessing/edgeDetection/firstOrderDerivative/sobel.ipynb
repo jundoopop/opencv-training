{
 "cells": [
  {
   "cell_type": "code",
   "execution_count": 1,
   "metadata": {},
   "outputs": [],
   "source": [
    "import cv2\n",
    "import numpy as np\n",
    "\n",
    "# get image file directory\n",
    "directory_paris = \"/home/treeplanter/graphics/pyOpenCv/imageProcessing/source/paris.jpg\"\n",
    "directory_quebecFlag = (\n",
    "    \"/home/treeplanter/graphics/pyOpenCv/imageProcessing/source/Flag_of_Quebec.png\"\n",
    ")\n",
    "window_name = \"Sobel Filter Applied\""
   ]
  },
  {
   "cell_type": "code",
   "execution_count": 2,
   "metadata": {},
   "outputs": [],
   "source": [
    "def sobel_filter(image_file):\n",
    "    \"\"\"\n",
    "    Performs Sobel edge detection on an image.\n",
    "\n",
    "    Argument:\n",
    "    image_file : str - The file path of the image to be processed.\n",
    "    \"\"\"\n",
    "\n",
    "    # Convert the image to grayscale.\n",
    "    grayscale_image = np.array(cv2.imread(image_file, cv2.IMREAD_GRAYSCALE)).astype(\n",
    "        np.float32\n",
    "    )\n",
    "\n",
    "    # Create the Sobel kernel.\n",
    "    sobel_x_kernel = np.array([[-1, 0, 1], [-2, 0, 2], [-1, 0, 1]])\n",
    "    sobel_y_kernel = np.array([[1, 2, 1], [0, 0, 0], [-1, -2, -1]])\n",
    "\n",
    "    # Apply the Sobel kernel to the image.\n",
    "    sobel_x = cv2.filter2D(grayscale_image, -1, sobel_x_kernel)\n",
    "    sobel_y = cv2.filter2D(grayscale_image, -1, sobel_y_kernel)\n",
    "\n",
    "    abs_sobel_x = cv2.convertScaleAbs(sobel_x)\n",
    "    abs_sobel_y = cv2.convertScaleAbs(sobel_y)\n",
    "\n",
    "    # # Calculate the result of the Sobel filter.\n",
    "    result = cv2.addWeighted(abs_sobel_x, 0.5, abs_sobel_y, 0.5, 0)\n",
    "\n",
    "    # Return the output image.\n",
    "    return result"
   ]
  },
  {
   "cell_type": "code",
   "execution_count": 3,
   "metadata": {},
   "outputs": [
    {
     "name": "stderr",
     "output_type": "stream",
     "text": [
      "qt.qpa.plugin: Could not find the Qt platform plugin \"wayland\" in \"/home/treeplanter/graphics/pyOpenCv/lib/python3.10/site-packages/cv2/qt/plugins\"\n"
     ]
    },
    {
     "ename": "",
     "evalue": "",
     "output_type": "error",
     "traceback": [
      "\u001b[1;31mThe Kernel crashed while executing code in the the current cell or a previous cell. Please review the code in the cell(s) to identify a possible cause of the failure. Click <a href='https://aka.ms/vscodeJupyterKernelCrash'>here</a> for more info. View Jupyter <a href='command:jupyter.viewOutput'>log</a> for further details."
     ]
    }
   ],
   "source": [
    "while cv2.waitKey(0) != ord(\"q\"):\n",
    "    sobel_custom_paris = sobel_filter(directory_paris)\n",
    "    sobel_custom_qc_flag = sobel_filter(directory_quebecFlag)\n",
    "\n",
    "    cv2.imshow(f\"{window_name} - Photo of Paris\", sobel_custom_paris)\n",
    "    cv2.imshow(\n",
    "        f\"{window_name} - Photo of the flag of Quebec, Canada\", sobel_custom_qc_flag\n",
    "    )\n",
    "\n",
    "\n",
    "cv2.destroyAllWindows()\n",
    "exit(0)"
   ]
  },
  {
   "cell_type": "code",
   "execution_count": null,
   "metadata": {},
   "outputs": [],
   "source": []
  }
 ],
 "metadata": {
  "kernelspec": {
   "display_name": "pyOpenCv",
   "language": "python",
   "name": "python3"
  },
  "language_info": {
   "codemirror_mode": {
    "name": "ipython",
    "version": 3
   },
   "file_extension": ".py",
   "mimetype": "text/x-python",
   "name": "python",
   "nbconvert_exporter": "python",
   "pygments_lexer": "ipython3",
   "version": "3.10.6"
  },
  "orig_nbformat": 4
 },
 "nbformat": 4,
 "nbformat_minor": 2
}
