{
 "cells": [
  {
   "cell_type": "code",
   "execution_count": null,
   "metadata": {},
   "outputs": [],
   "source": [
    "import cv2\n",
    "import numpy as np\n",
    "import matplotlib.pyplot as plt\n",
    "\n",
    "# path of the photo cases\n",
    "directory_case1 = \"../source/testcase1.jpg\"\n",
    "directory_case2 = \"../source/testcase2.jpg\"\n",
    "\n",
    "# read photos\n",
    "\n",
    "img1 = cv2.imread(directory_case1, cv2.IMREAD_GRAYSCALE)\n",
    "img2 = cv2.imread(directory_case2, cv2.IMREAD_GRAYSCALE)"
   ]
  }
 ],
 "metadata": {
  "language_info": {
   "name": "python"
  },
  "orig_nbformat": 4
 },
 "nbformat": 4,
 "nbformat_minor": 2
}
